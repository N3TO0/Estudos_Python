{
 "cells": [
  {
   "cell_type": "code",
   "execution_count": 5,
   "id": "08656d88-3b85-40d6-96c5-9154fda98b14",
   "metadata": {},
   "outputs": [],
   "source": [
    "from selenium import webdriver\n",
    "from webdriver_manager.chrome import ChromeDriverManager\n",
    "from selenium.webdriver.chrome.service import Service\n",
    "\n",
    "servico = Service(ChromeDriverManager().install())\n",
    "\n",
    "navegador = webdriver.Chrome(service=servico)\n",
    "\n",
    "navegador.get(\"https://dlp.hashtagtreinamentos.com/python/minicurso/minicurso-automacao/inscricao?curso=python&origemurl=hashtag_yt_org_minipython_videoselenium&utm_campaign=programacao&utm_content=python%2Fminicurso%2Fminicurso-automacao%2Finscricao&conversion=lespy-mar-25\")\n",
    "\n",
    "navegador.find_element('xpath','//*[@id=\"firstname\"]').send_keys(\"Neto\")\n",
    "navegador.find_element('xpath','//*[@id=\"email\"]').send_keys(\"idervaljose00@gmail.com\")\n",
    "navegador.find_element('xpath','//*[@id=\"phone\"]').send_keys(\"88 9 81621317\")\n",
    "navegador.find_element('xpath','//*[@id=\"_form_1925_submit\"]').click()\n",
    "navegador.find_element('xpath','//*[@id=\"botao-minicurso\"]').click()\n"
   ]
  },
  {
   "cell_type": "code",
   "execution_count": null,
   "id": "da16e684-1bc0-424a-af01-29845f38ac20",
   "metadata": {},
   "outputs": [],
   "source": []
  }
 ],
 "metadata": {
  "kernelspec": {
   "display_name": "Python [conda env:base] *",
   "language": "python",
   "name": "conda-base-py"
  },
  "language_info": {
   "codemirror_mode": {
    "name": "ipython",
    "version": 3
   },
   "file_extension": ".py",
   "mimetype": "text/x-python",
   "name": "python",
   "nbconvert_exporter": "python",
   "pygments_lexer": "ipython3",
   "version": "3.12.7"
  }
 },
 "nbformat": 4,
 "nbformat_minor": 5
}
